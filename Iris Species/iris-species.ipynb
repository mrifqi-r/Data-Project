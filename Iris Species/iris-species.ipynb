{
 "cells": [
  {
   "cell_type": "code",
   "execution_count": 1,
   "id": "9dec7740",
   "metadata": {
    "_cell_guid": "b1076dfc-b9ad-4769-8c92-a6c4dae69d19",
    "_uuid": "8f2839f25d086af736a60e9eeb907d3b93b6e0e5",
    "execution": {
     "iopub.execute_input": "2022-02-22T12:38:41.287016Z",
     "iopub.status.busy": "2022-02-22T12:38:41.285921Z",
     "iopub.status.idle": "2022-02-22T12:38:42.580307Z",
     "shell.execute_reply": "2022-02-22T12:38:42.579297Z",
     "shell.execute_reply.started": "2022-02-22T12:06:09.404848Z"
    },
    "papermill": {
     "duration": 1.332682,
     "end_time": "2022-02-22T12:38:42.580544",
     "exception": false,
     "start_time": "2022-02-22T12:38:41.247862",
     "status": "completed"
    },
    "tags": []
   },
   "outputs": [
    {
     "name": "stdout",
     "output_type": "stream",
     "text": [
      "/kaggle/input/iris/Iris.csv\n",
      "/kaggle/input/iris/database.sqlite\n"
     ]
    }
   ],
   "source": [
    "import numpy as np \n",
    "import pandas as pd \n",
    "import matplotlib.pyplot as plt\n",
    "import seaborn as sns\n",
    "%matplotlib inline\n",
    "\n",
    "import os\n",
    "for dirname, _, filenames in os.walk('/kaggle/input'):\n",
    "    for filename in filenames:\n",
    "        print(os.path.join(dirname, filename))\n",
    "\n",
    "# You can write up to 20GB to the current directory (/kaggle/working/) that gets preserved as output when you create a version using \"Save & Run All\" \n",
    "# You can also write temporary files to /kaggle/temp/, but they won't be saved outside of the current session"
   ]
  },
  {
   "cell_type": "code",
   "execution_count": 2,
   "id": "ba296a87",
   "metadata": {
    "execution": {
     "iopub.execute_input": "2022-02-22T12:38:42.629580Z",
     "iopub.status.busy": "2022-02-22T12:38:42.628701Z",
     "iopub.status.idle": "2022-02-22T12:38:42.682584Z",
     "shell.execute_reply": "2022-02-22T12:38:42.683117Z",
     "shell.execute_reply.started": "2022-02-22T12:06:10.505202Z"
    },
    "papermill": {
     "duration": 0.081746,
     "end_time": "2022-02-22T12:38:42.683320",
     "exception": false,
     "start_time": "2022-02-22T12:38:42.601574",
     "status": "completed"
    },
    "tags": []
   },
   "outputs": [
    {
     "data": {
      "text/html": [
       "<div>\n",
       "<style scoped>\n",
       "    .dataframe tbody tr th:only-of-type {\n",
       "        vertical-align: middle;\n",
       "    }\n",
       "\n",
       "    .dataframe tbody tr th {\n",
       "        vertical-align: top;\n",
       "    }\n",
       "\n",
       "    .dataframe thead th {\n",
       "        text-align: right;\n",
       "    }\n",
       "</style>\n",
       "<table border=\"1\" class=\"dataframe\">\n",
       "  <thead>\n",
       "    <tr style=\"text-align: right;\">\n",
       "      <th></th>\n",
       "      <th>SepalLengthCm</th>\n",
       "      <th>SepalWidthCm</th>\n",
       "      <th>PetalLengthCm</th>\n",
       "      <th>PetalWidthCm</th>\n",
       "      <th>Species</th>\n",
       "    </tr>\n",
       "    <tr>\n",
       "      <th>Id</th>\n",
       "      <th></th>\n",
       "      <th></th>\n",
       "      <th></th>\n",
       "      <th></th>\n",
       "      <th></th>\n",
       "    </tr>\n",
       "  </thead>\n",
       "  <tbody>\n",
       "    <tr>\n",
       "      <th>1</th>\n",
       "      <td>5.1</td>\n",
       "      <td>3.5</td>\n",
       "      <td>1.4</td>\n",
       "      <td>0.2</td>\n",
       "      <td>Iris-setosa</td>\n",
       "    </tr>\n",
       "    <tr>\n",
       "      <th>2</th>\n",
       "      <td>4.9</td>\n",
       "      <td>3.0</td>\n",
       "      <td>1.4</td>\n",
       "      <td>0.2</td>\n",
       "      <td>Iris-setosa</td>\n",
       "    </tr>\n",
       "    <tr>\n",
       "      <th>3</th>\n",
       "      <td>4.7</td>\n",
       "      <td>3.2</td>\n",
       "      <td>1.3</td>\n",
       "      <td>0.2</td>\n",
       "      <td>Iris-setosa</td>\n",
       "    </tr>\n",
       "    <tr>\n",
       "      <th>4</th>\n",
       "      <td>4.6</td>\n",
       "      <td>3.1</td>\n",
       "      <td>1.5</td>\n",
       "      <td>0.2</td>\n",
       "      <td>Iris-setosa</td>\n",
       "    </tr>\n",
       "    <tr>\n",
       "      <th>5</th>\n",
       "      <td>5.0</td>\n",
       "      <td>3.6</td>\n",
       "      <td>1.4</td>\n",
       "      <td>0.2</td>\n",
       "      <td>Iris-setosa</td>\n",
       "    </tr>\n",
       "    <tr>\n",
       "      <th>6</th>\n",
       "      <td>5.4</td>\n",
       "      <td>3.9</td>\n",
       "      <td>1.7</td>\n",
       "      <td>0.4</td>\n",
       "      <td>Iris-setosa</td>\n",
       "    </tr>\n",
       "    <tr>\n",
       "      <th>7</th>\n",
       "      <td>4.6</td>\n",
       "      <td>3.4</td>\n",
       "      <td>1.4</td>\n",
       "      <td>0.3</td>\n",
       "      <td>Iris-setosa</td>\n",
       "    </tr>\n",
       "    <tr>\n",
       "      <th>8</th>\n",
       "      <td>5.0</td>\n",
       "      <td>3.4</td>\n",
       "      <td>1.5</td>\n",
       "      <td>0.2</td>\n",
       "      <td>Iris-setosa</td>\n",
       "    </tr>\n",
       "    <tr>\n",
       "      <th>9</th>\n",
       "      <td>4.4</td>\n",
       "      <td>2.9</td>\n",
       "      <td>1.4</td>\n",
       "      <td>0.2</td>\n",
       "      <td>Iris-setosa</td>\n",
       "    </tr>\n",
       "    <tr>\n",
       "      <th>10</th>\n",
       "      <td>4.9</td>\n",
       "      <td>3.1</td>\n",
       "      <td>1.5</td>\n",
       "      <td>0.1</td>\n",
       "      <td>Iris-setosa</td>\n",
       "    </tr>\n",
       "    <tr>\n",
       "      <th>11</th>\n",
       "      <td>5.4</td>\n",
       "      <td>3.7</td>\n",
       "      <td>1.5</td>\n",
       "      <td>0.2</td>\n",
       "      <td>Iris-setosa</td>\n",
       "    </tr>\n",
       "    <tr>\n",
       "      <th>12</th>\n",
       "      <td>4.8</td>\n",
       "      <td>3.4</td>\n",
       "      <td>1.6</td>\n",
       "      <td>0.2</td>\n",
       "      <td>Iris-setosa</td>\n",
       "    </tr>\n",
       "    <tr>\n",
       "      <th>13</th>\n",
       "      <td>4.8</td>\n",
       "      <td>3.0</td>\n",
       "      <td>1.4</td>\n",
       "      <td>0.1</td>\n",
       "      <td>Iris-setosa</td>\n",
       "    </tr>\n",
       "    <tr>\n",
       "      <th>14</th>\n",
       "      <td>4.3</td>\n",
       "      <td>3.0</td>\n",
       "      <td>1.1</td>\n",
       "      <td>0.1</td>\n",
       "      <td>Iris-setosa</td>\n",
       "    </tr>\n",
       "    <tr>\n",
       "      <th>15</th>\n",
       "      <td>5.8</td>\n",
       "      <td>4.0</td>\n",
       "      <td>1.2</td>\n",
       "      <td>0.2</td>\n",
       "      <td>Iris-setosa</td>\n",
       "    </tr>\n",
       "    <tr>\n",
       "      <th>16</th>\n",
       "      <td>5.7</td>\n",
       "      <td>4.4</td>\n",
       "      <td>1.5</td>\n",
       "      <td>0.4</td>\n",
       "      <td>Iris-setosa</td>\n",
       "    </tr>\n",
       "    <tr>\n",
       "      <th>17</th>\n",
       "      <td>5.4</td>\n",
       "      <td>3.9</td>\n",
       "      <td>1.3</td>\n",
       "      <td>0.4</td>\n",
       "      <td>Iris-setosa</td>\n",
       "    </tr>\n",
       "    <tr>\n",
       "      <th>18</th>\n",
       "      <td>5.1</td>\n",
       "      <td>3.5</td>\n",
       "      <td>1.4</td>\n",
       "      <td>0.3</td>\n",
       "      <td>Iris-setosa</td>\n",
       "    </tr>\n",
       "    <tr>\n",
       "      <th>19</th>\n",
       "      <td>5.7</td>\n",
       "      <td>3.8</td>\n",
       "      <td>1.7</td>\n",
       "      <td>0.3</td>\n",
       "      <td>Iris-setosa</td>\n",
       "    </tr>\n",
       "    <tr>\n",
       "      <th>20</th>\n",
       "      <td>5.1</td>\n",
       "      <td>3.8</td>\n",
       "      <td>1.5</td>\n",
       "      <td>0.3</td>\n",
       "      <td>Iris-setosa</td>\n",
       "    </tr>\n",
       "    <tr>\n",
       "      <th>21</th>\n",
       "      <td>5.4</td>\n",
       "      <td>3.4</td>\n",
       "      <td>1.7</td>\n",
       "      <td>0.2</td>\n",
       "      <td>Iris-setosa</td>\n",
       "    </tr>\n",
       "    <tr>\n",
       "      <th>22</th>\n",
       "      <td>5.1</td>\n",
       "      <td>3.7</td>\n",
       "      <td>1.5</td>\n",
       "      <td>0.4</td>\n",
       "      <td>Iris-setosa</td>\n",
       "    </tr>\n",
       "    <tr>\n",
       "      <th>23</th>\n",
       "      <td>4.6</td>\n",
       "      <td>3.6</td>\n",
       "      <td>1.0</td>\n",
       "      <td>0.2</td>\n",
       "      <td>Iris-setosa</td>\n",
       "    </tr>\n",
       "    <tr>\n",
       "      <th>24</th>\n",
       "      <td>5.1</td>\n",
       "      <td>3.3</td>\n",
       "      <td>1.7</td>\n",
       "      <td>0.5</td>\n",
       "      <td>Iris-setosa</td>\n",
       "    </tr>\n",
       "    <tr>\n",
       "      <th>25</th>\n",
       "      <td>4.8</td>\n",
       "      <td>3.4</td>\n",
       "      <td>1.9</td>\n",
       "      <td>0.2</td>\n",
       "      <td>Iris-setosa</td>\n",
       "    </tr>\n",
       "  </tbody>\n",
       "</table>\n",
       "</div>"
      ],
      "text/plain": [
       "    SepalLengthCm  SepalWidthCm  PetalLengthCm  PetalWidthCm      Species\n",
       "Id                                                                       \n",
       "1             5.1           3.5            1.4           0.2  Iris-setosa\n",
       "2             4.9           3.0            1.4           0.2  Iris-setosa\n",
       "3             4.7           3.2            1.3           0.2  Iris-setosa\n",
       "4             4.6           3.1            1.5           0.2  Iris-setosa\n",
       "5             5.0           3.6            1.4           0.2  Iris-setosa\n",
       "6             5.4           3.9            1.7           0.4  Iris-setosa\n",
       "7             4.6           3.4            1.4           0.3  Iris-setosa\n",
       "8             5.0           3.4            1.5           0.2  Iris-setosa\n",
       "9             4.4           2.9            1.4           0.2  Iris-setosa\n",
       "10            4.9           3.1            1.5           0.1  Iris-setosa\n",
       "11            5.4           3.7            1.5           0.2  Iris-setosa\n",
       "12            4.8           3.4            1.6           0.2  Iris-setosa\n",
       "13            4.8           3.0            1.4           0.1  Iris-setosa\n",
       "14            4.3           3.0            1.1           0.1  Iris-setosa\n",
       "15            5.8           4.0            1.2           0.2  Iris-setosa\n",
       "16            5.7           4.4            1.5           0.4  Iris-setosa\n",
       "17            5.4           3.9            1.3           0.4  Iris-setosa\n",
       "18            5.1           3.5            1.4           0.3  Iris-setosa\n",
       "19            5.7           3.8            1.7           0.3  Iris-setosa\n",
       "20            5.1           3.8            1.5           0.3  Iris-setosa\n",
       "21            5.4           3.4            1.7           0.2  Iris-setosa\n",
       "22            5.1           3.7            1.5           0.4  Iris-setosa\n",
       "23            4.6           3.6            1.0           0.2  Iris-setosa\n",
       "24            5.1           3.3            1.7           0.5  Iris-setosa\n",
       "25            4.8           3.4            1.9           0.2  Iris-setosa"
      ]
     },
     "execution_count": 2,
     "metadata": {},
     "output_type": "execute_result"
    }
   ],
   "source": [
    "iris_data = pd.read_csv('../input/iris/Iris.csv', index_col='Id')\n",
    "iris_data.head(25)"
   ]
  },
  {
   "cell_type": "code",
   "execution_count": 3,
   "id": "68b6ef13",
   "metadata": {
    "execution": {
     "iopub.execute_input": "2022-02-22T12:38:42.727688Z",
     "iopub.status.busy": "2022-02-22T12:38:42.725840Z",
     "iopub.status.idle": "2022-02-22T12:38:42.746752Z",
     "shell.execute_reply": "2022-02-22T12:38:42.747578Z",
     "shell.execute_reply.started": "2022-02-22T12:06:10.555862Z"
    },
    "papermill": {
     "duration": 0.044214,
     "end_time": "2022-02-22T12:38:42.747865",
     "exception": false,
     "start_time": "2022-02-22T12:38:42.703651",
     "status": "completed"
    },
    "tags": []
   },
   "outputs": [
    {
     "name": "stdout",
     "output_type": "stream",
     "text": [
      "<class 'pandas.core.frame.DataFrame'>\n",
      "Int64Index: 150 entries, 1 to 150\n",
      "Data columns (total 5 columns):\n",
      " #   Column         Non-Null Count  Dtype  \n",
      "---  ------         --------------  -----  \n",
      " 0   SepalLengthCm  150 non-null    float64\n",
      " 1   SepalWidthCm   150 non-null    float64\n",
      " 2   PetalLengthCm  150 non-null    float64\n",
      " 3   PetalWidthCm   150 non-null    float64\n",
      " 4   Species        150 non-null    object \n",
      "dtypes: float64(4), object(1)\n",
      "memory usage: 7.0+ KB\n"
     ]
    }
   ],
   "source": [
    "iris_data.info()"
   ]
  },
  {
   "cell_type": "code",
   "execution_count": 4,
   "id": "5bfe17ff",
   "metadata": {
    "execution": {
     "iopub.execute_input": "2022-02-22T12:38:42.797156Z",
     "iopub.status.busy": "2022-02-22T12:38:42.795923Z",
     "iopub.status.idle": "2022-02-22T12:38:42.828993Z",
     "shell.execute_reply": "2022-02-22T12:38:42.829507Z",
     "shell.execute_reply.started": "2022-02-22T12:06:10.579929Z"
    },
    "papermill": {
     "duration": 0.059255,
     "end_time": "2022-02-22T12:38:42.829720",
     "exception": false,
     "start_time": "2022-02-22T12:38:42.770465",
     "status": "completed"
    },
    "tags": []
   },
   "outputs": [
    {
     "data": {
      "text/html": [
       "<div>\n",
       "<style scoped>\n",
       "    .dataframe tbody tr th:only-of-type {\n",
       "        vertical-align: middle;\n",
       "    }\n",
       "\n",
       "    .dataframe tbody tr th {\n",
       "        vertical-align: top;\n",
       "    }\n",
       "\n",
       "    .dataframe thead th {\n",
       "        text-align: right;\n",
       "    }\n",
       "</style>\n",
       "<table border=\"1\" class=\"dataframe\">\n",
       "  <thead>\n",
       "    <tr style=\"text-align: right;\">\n",
       "      <th></th>\n",
       "      <th>count</th>\n",
       "      <th>mean</th>\n",
       "      <th>std</th>\n",
       "      <th>min</th>\n",
       "      <th>25%</th>\n",
       "      <th>50%</th>\n",
       "      <th>75%</th>\n",
       "      <th>max</th>\n",
       "    </tr>\n",
       "  </thead>\n",
       "  <tbody>\n",
       "    <tr>\n",
       "      <th>SepalLengthCm</th>\n",
       "      <td>150.0</td>\n",
       "      <td>5.843333</td>\n",
       "      <td>0.828066</td>\n",
       "      <td>4.3</td>\n",
       "      <td>5.1</td>\n",
       "      <td>5.80</td>\n",
       "      <td>6.4</td>\n",
       "      <td>7.9</td>\n",
       "    </tr>\n",
       "    <tr>\n",
       "      <th>SepalWidthCm</th>\n",
       "      <td>150.0</td>\n",
       "      <td>3.054000</td>\n",
       "      <td>0.433594</td>\n",
       "      <td>2.0</td>\n",
       "      <td>2.8</td>\n",
       "      <td>3.00</td>\n",
       "      <td>3.3</td>\n",
       "      <td>4.4</td>\n",
       "    </tr>\n",
       "    <tr>\n",
       "      <th>PetalLengthCm</th>\n",
       "      <td>150.0</td>\n",
       "      <td>3.758667</td>\n",
       "      <td>1.764420</td>\n",
       "      <td>1.0</td>\n",
       "      <td>1.6</td>\n",
       "      <td>4.35</td>\n",
       "      <td>5.1</td>\n",
       "      <td>6.9</td>\n",
       "    </tr>\n",
       "    <tr>\n",
       "      <th>PetalWidthCm</th>\n",
       "      <td>150.0</td>\n",
       "      <td>1.198667</td>\n",
       "      <td>0.763161</td>\n",
       "      <td>0.1</td>\n",
       "      <td>0.3</td>\n",
       "      <td>1.30</td>\n",
       "      <td>1.8</td>\n",
       "      <td>2.5</td>\n",
       "    </tr>\n",
       "  </tbody>\n",
       "</table>\n",
       "</div>"
      ],
      "text/plain": [
       "               count      mean       std  min  25%   50%  75%  max\n",
       "SepalLengthCm  150.0  5.843333  0.828066  4.3  5.1  5.80  6.4  7.9\n",
       "SepalWidthCm   150.0  3.054000  0.433594  2.0  2.8  3.00  3.3  4.4\n",
       "PetalLengthCm  150.0  3.758667  1.764420  1.0  1.6  4.35  5.1  6.9\n",
       "PetalWidthCm   150.0  1.198667  0.763161  0.1  0.3  1.30  1.8  2.5"
      ]
     },
     "execution_count": 4,
     "metadata": {},
     "output_type": "execute_result"
    }
   ],
   "source": [
    "iris_data.describe().T"
   ]
  },
  {
   "cell_type": "code",
   "execution_count": 5,
   "id": "908e50cc",
   "metadata": {
    "execution": {
     "iopub.execute_input": "2022-02-22T12:38:42.878940Z",
     "iopub.status.busy": "2022-02-22T12:38:42.877871Z",
     "iopub.status.idle": "2022-02-22T12:38:43.151418Z",
     "shell.execute_reply": "2022-02-22T12:38:43.150738Z",
     "shell.execute_reply.started": "2022-02-22T12:06:10.620726Z"
    },
    "papermill": {
     "duration": 0.299956,
     "end_time": "2022-02-22T12:38:43.151652",
     "exception": false,
     "start_time": "2022-02-22T12:38:42.851696",
     "status": "completed"
    },
    "tags": []
   },
   "outputs": [
    {
     "data": {
      "text/plain": [
       "<AxesSubplot:xlabel='Species', ylabel='count'>"
      ]
     },
     "execution_count": 5,
     "metadata": {},
     "output_type": "execute_result"
    },
    {
     "data": {
      "image/png": "[encoded data removed]",
      "text/plain": [
       "<Figure size 576x432 with 1 Axes>"
      ]
     },
     "metadata": {},
     "output_type": "display_data"
    }
   ],
   "source": [
    "sns.set_style('dark')\n",
    "plt.figure(figsize=(8,6))\n",
    "sns.countplot(x='Species', data=iris_data)\n"
   ]
  },
  {
   "cell_type": "code",
   "execution_count": 6,
   "id": "411562ef",
   "metadata": {
    "execution": {
     "iopub.execute_input": "2022-02-22T12:38:43.203782Z",
     "iopub.status.busy": "2022-02-22T12:38:43.203069Z",
     "iopub.status.idle": "2022-02-22T12:38:43.373854Z",
     "shell.execute_reply": "2022-02-22T12:38:43.373273Z",
     "shell.execute_reply.started": "2022-02-22T12:06:10.815218Z"
    },
    "papermill": {
     "duration": 0.199259,
     "end_time": "2022-02-22T12:38:43.374006",
     "exception": false,
     "start_time": "2022-02-22T12:38:43.174747",
     "status": "completed"
    },
    "tags": []
   },
   "outputs": [
    {
     "data": {
      "text/html": [
       "<div>\n",
       "<style scoped>\n",
       "    .dataframe tbody tr th:only-of-type {\n",
       "        vertical-align: middle;\n",
       "    }\n",
       "\n",
       "    .dataframe tbody tr th {\n",
       "        vertical-align: top;\n",
       "    }\n",
       "\n",
       "    .dataframe thead th {\n",
       "        text-align: right;\n",
       "    }\n",
       "</style>\n",
       "<table border=\"1\" class=\"dataframe\">\n",
       "  <thead>\n",
       "    <tr style=\"text-align: right;\">\n",
       "      <th></th>\n",
       "      <th>SepalLengthCm</th>\n",
       "      <th>SepalWidthCm</th>\n",
       "      <th>PetalLengthCm</th>\n",
       "      <th>PetalWidthCm</th>\n",
       "      <th>Species</th>\n",
       "      <th>Label_Species</th>\n",
       "    </tr>\n",
       "    <tr>\n",
       "      <th>Id</th>\n",
       "      <th></th>\n",
       "      <th></th>\n",
       "      <th></th>\n",
       "      <th></th>\n",
       "      <th></th>\n",
       "      <th></th>\n",
       "    </tr>\n",
       "  </thead>\n",
       "  <tbody>\n",
       "    <tr>\n",
       "      <th>17</th>\n",
       "      <td>5.4</td>\n",
       "      <td>3.9</td>\n",
       "      <td>1.3</td>\n",
       "      <td>0.4</td>\n",
       "      <td>Iris-setosa</td>\n",
       "      <td>0</td>\n",
       "    </tr>\n",
       "    <tr>\n",
       "      <th>133</th>\n",
       "      <td>6.4</td>\n",
       "      <td>2.8</td>\n",
       "      <td>5.6</td>\n",
       "      <td>2.2</td>\n",
       "      <td>Iris-virginica</td>\n",
       "      <td>2</td>\n",
       "    </tr>\n",
       "    <tr>\n",
       "      <th>56</th>\n",
       "      <td>5.7</td>\n",
       "      <td>2.8</td>\n",
       "      <td>4.5</td>\n",
       "      <td>1.3</td>\n",
       "      <td>Iris-versicolor</td>\n",
       "      <td>1</td>\n",
       "    </tr>\n",
       "    <tr>\n",
       "      <th>71</th>\n",
       "      <td>5.9</td>\n",
       "      <td>3.2</td>\n",
       "      <td>4.8</td>\n",
       "      <td>1.8</td>\n",
       "      <td>Iris-versicolor</td>\n",
       "      <td>1</td>\n",
       "    </tr>\n",
       "    <tr>\n",
       "      <th>135</th>\n",
       "      <td>6.1</td>\n",
       "      <td>2.6</td>\n",
       "      <td>5.6</td>\n",
       "      <td>1.4</td>\n",
       "      <td>Iris-virginica</td>\n",
       "      <td>2</td>\n",
       "    </tr>\n",
       "    <tr>\n",
       "      <th>64</th>\n",
       "      <td>6.1</td>\n",
       "      <td>2.9</td>\n",
       "      <td>4.7</td>\n",
       "      <td>1.4</td>\n",
       "      <td>Iris-versicolor</td>\n",
       "      <td>1</td>\n",
       "    </tr>\n",
       "    <tr>\n",
       "      <th>51</th>\n",
       "      <td>7.0</td>\n",
       "      <td>3.2</td>\n",
       "      <td>4.7</td>\n",
       "      <td>1.4</td>\n",
       "      <td>Iris-versicolor</td>\n",
       "      <td>1</td>\n",
       "    </tr>\n",
       "    <tr>\n",
       "      <th>39</th>\n",
       "      <td>4.4</td>\n",
       "      <td>3.0</td>\n",
       "      <td>1.3</td>\n",
       "      <td>0.2</td>\n",
       "      <td>Iris-setosa</td>\n",
       "      <td>0</td>\n",
       "    </tr>\n",
       "    <tr>\n",
       "      <th>68</th>\n",
       "      <td>5.8</td>\n",
       "      <td>2.7</td>\n",
       "      <td>4.1</td>\n",
       "      <td>1.0</td>\n",
       "      <td>Iris-versicolor</td>\n",
       "      <td>1</td>\n",
       "    </tr>\n",
       "    <tr>\n",
       "      <th>59</th>\n",
       "      <td>6.6</td>\n",
       "      <td>2.9</td>\n",
       "      <td>4.6</td>\n",
       "      <td>1.3</td>\n",
       "      <td>Iris-versicolor</td>\n",
       "      <td>1</td>\n",
       "    </tr>\n",
       "  </tbody>\n",
       "</table>\n",
       "</div>"
      ],
      "text/plain": [
       "     SepalLengthCm  SepalWidthCm  PetalLengthCm  PetalWidthCm  \\\n",
       "Id                                                              \n",
       "17             5.4           3.9            1.3           0.4   \n",
       "133            6.4           2.8            5.6           2.2   \n",
       "56             5.7           2.8            4.5           1.3   \n",
       "71             5.9           3.2            4.8           1.8   \n",
       "135            6.1           2.6            5.6           1.4   \n",
       "64             6.1           2.9            4.7           1.4   \n",
       "51             7.0           3.2            4.7           1.4   \n",
       "39             4.4           3.0            1.3           0.2   \n",
       "68             5.8           2.7            4.1           1.0   \n",
       "59             6.6           2.9            4.6           1.3   \n",
       "\n",
       "             Species  Label_Species  \n",
       "Id                                   \n",
       "17       Iris-setosa              0  \n",
       "133   Iris-virginica              2  \n",
       "56   Iris-versicolor              1  \n",
       "71   Iris-versicolor              1  \n",
       "135   Iris-virginica              2  \n",
       "64   Iris-versicolor              1  \n",
       "51   Iris-versicolor              1  \n",
       "39       Iris-setosa              0  \n",
       "68   Iris-versicolor              1  \n",
       "59   Iris-versicolor              1  "
      ]
     },
     "execution_count": 6,
     "metadata": {},
     "output_type": "execute_result"
    }
   ],
   "source": [
    "from sklearn.preprocessing import LabelEncoder\n",
    "\n",
    "LE = LabelEncoder()\n",
    "iris_data['Label_Species'] = LE.fit_transform(iris_data['Species'])\n",
    "iris_data.sample(n=10)"
   ]
  },
  {
   "cell_type": "code",
   "execution_count": 7,
   "id": "0ab6bfae",
   "metadata": {
    "execution": {
     "iopub.execute_input": "2022-02-22T12:38:43.426603Z",
     "iopub.status.busy": "2022-02-22T12:38:43.425777Z",
     "iopub.status.idle": "2022-02-22T12:38:43.739829Z",
     "shell.execute_reply": "2022-02-22T12:38:43.740376Z",
     "shell.execute_reply.started": "2022-02-22T12:06:10.963170Z"
    },
    "papermill": {
     "duration": 0.341305,
     "end_time": "2022-02-22T12:38:43.740588",
     "exception": false,
     "start_time": "2022-02-22T12:38:43.399283",
     "status": "completed"
    },
    "tags": []
   },
   "outputs": [],
   "source": [
    "from sklearn.model_selection import train_test_split\n",
    "from sklearn.linear_model import LogisticRegression\n",
    "from sklearn.ensemble import RandomForestClassifier\n",
    "from sklearn.svm import SVC\n",
    "from sklearn.neighbors import NearestNeighbors\n",
    "from sklearn.tree import DecisionTreeClassifier\n",
    "from sklearn.metrics import accuracy_score\n",
    "\n",
    "iris_data_num = iris_data.drop('Species', axis=1)\n",
    "\n",
    "X = iris_data_num.drop('Label_Species', axis=1)\n",
    "y = iris_data_num['Label_Species']\n",
    "\n",
    "X_train, X_test, y_train, y_test = train_test_split(X, y, test_size = 0.2, random_state = 101)"
   ]
  },
  {
   "cell_type": "code",
   "execution_count": 8,
   "id": "2e0ab0e5",
   "metadata": {
    "execution": {
     "iopub.execute_input": "2022-02-22T12:38:43.804257Z",
     "iopub.status.busy": "2022-02-22T12:38:43.803492Z",
     "iopub.status.idle": "2022-02-22T12:38:43.808500Z",
     "shell.execute_reply": "2022-02-22T12:38:43.807927Z",
     "shell.execute_reply.started": "2022-02-22T12:06:11.230683Z"
    },
    "papermill": {
     "duration": 0.044339,
     "end_time": "2022-02-22T12:38:43.808672",
     "exception": false,
     "start_time": "2022-02-22T12:38:43.764333",
     "status": "completed"
    },
    "tags": []
   },
   "outputs": [
    {
     "data": {
      "text/html": [
       "<div>\n",
       "<style scoped>\n",
       "    .dataframe tbody tr th:only-of-type {\n",
       "        vertical-align: middle;\n",
       "    }\n",
       "\n",
       "    .dataframe tbody tr th {\n",
       "        vertical-align: top;\n",
       "    }\n",
       "\n",
       "    .dataframe thead th {\n",
       "        text-align: right;\n",
       "    }\n",
       "</style>\n",
       "<table border=\"1\" class=\"dataframe\">\n",
       "  <thead>\n",
       "    <tr style=\"text-align: right;\">\n",
       "      <th></th>\n",
       "      <th>SepalLengthCm</th>\n",
       "      <th>SepalWidthCm</th>\n",
       "      <th>PetalLengthCm</th>\n",
       "      <th>PetalWidthCm</th>\n",
       "    </tr>\n",
       "    <tr>\n",
       "      <th>Id</th>\n",
       "      <th></th>\n",
       "      <th></th>\n",
       "      <th></th>\n",
       "      <th></th>\n",
       "    </tr>\n",
       "  </thead>\n",
       "  <tbody>\n",
       "    <tr>\n",
       "      <th>105</th>\n",
       "      <td>6.5</td>\n",
       "      <td>3.0</td>\n",
       "      <td>5.8</td>\n",
       "      <td>2.2</td>\n",
       "    </tr>\n",
       "    <tr>\n",
       "      <th>90</th>\n",
       "      <td>5.5</td>\n",
       "      <td>2.5</td>\n",
       "      <td>4.0</td>\n",
       "      <td>1.3</td>\n",
       "    </tr>\n",
       "    <tr>\n",
       "      <th>117</th>\n",
       "      <td>6.5</td>\n",
       "      <td>3.0</td>\n",
       "      <td>5.5</td>\n",
       "      <td>1.8</td>\n",
       "    </tr>\n",
       "    <tr>\n",
       "      <th>83</th>\n",
       "      <td>5.8</td>\n",
       "      <td>2.7</td>\n",
       "      <td>3.9</td>\n",
       "      <td>1.2</td>\n",
       "    </tr>\n",
       "    <tr>\n",
       "      <th>113</th>\n",
       "      <td>6.8</td>\n",
       "      <td>3.0</td>\n",
       "      <td>5.5</td>\n",
       "      <td>2.1</td>\n",
       "    </tr>\n",
       "  </tbody>\n",
       "</table>\n",
       "</div>"
      ],
      "text/plain": [
       "     SepalLengthCm  SepalWidthCm  PetalLengthCm  PetalWidthCm\n",
       "Id                                                           \n",
       "105            6.5           3.0            5.8           2.2\n",
       "90             5.5           2.5            4.0           1.3\n",
       "117            6.5           3.0            5.5           1.8\n",
       "83             5.8           2.7            3.9           1.2\n",
       "113            6.8           3.0            5.5           2.1"
      ]
     },
     "execution_count": 8,
     "metadata": {},
     "output_type": "execute_result"
    }
   ],
   "source": [
    "X_train.head()"
   ]
  },
  {
   "cell_type": "code",
   "execution_count": 9,
   "id": "5df3b934",
   "metadata": {
    "execution": {
     "iopub.execute_input": "2022-02-22T12:38:43.868555Z",
     "iopub.status.busy": "2022-02-22T12:38:43.862430Z",
     "iopub.status.idle": "2022-02-22T12:38:43.872152Z",
     "shell.execute_reply": "2022-02-22T12:38:43.872727Z",
     "shell.execute_reply.started": "2022-02-22T12:06:11.247026Z"
    },
    "papermill": {
     "duration": 0.039343,
     "end_time": "2022-02-22T12:38:43.872917",
     "exception": false,
     "start_time": "2022-02-22T12:38:43.833574",
     "status": "completed"
    },
    "tags": []
   },
   "outputs": [
    {
     "data": {
      "text/plain": [
       "Id\n",
       "105    2\n",
       "90     1\n",
       "117    2\n",
       "83     1\n",
       "113    2\n",
       "Name: Label_Species, dtype: int64"
      ]
     },
     "execution_count": 9,
     "metadata": {},
     "output_type": "execute_result"
    }
   ],
   "source": [
    "y_train.head()"
   ]
  },
  {
   "cell_type": "markdown",
   "id": "5cd62ccd",
   "metadata": {
    "papermill": {
     "duration": 0.025358,
     "end_time": "2022-02-22T12:38:43.922783",
     "exception": false,
     "start_time": "2022-02-22T12:38:43.897425",
     "status": "completed"
    },
    "tags": []
   },
   "source": [
    "#  **Decision Tree Classifier**"
   ]
  },
  {
   "cell_type": "code",
   "execution_count": 10,
   "id": "d75bc3b0",
   "metadata": {
    "execution": {
     "iopub.execute_input": "2022-02-22T12:38:43.983568Z",
     "iopub.status.busy": "2022-02-22T12:38:43.982444Z",
     "iopub.status.idle": "2022-02-22T12:38:43.992536Z",
     "shell.execute_reply": "2022-02-22T12:38:43.993043Z",
     "shell.execute_reply.started": "2022-02-22T12:06:11.258187Z"
    },
    "papermill": {
     "duration": 0.045299,
     "end_time": "2022-02-22T12:38:43.993282",
     "exception": false,
     "start_time": "2022-02-22T12:38:43.947983",
     "status": "completed"
    },
    "tags": []
   },
   "outputs": [
    {
     "name": "stdout",
     "output_type": "stream",
     "text": [
      "Accuracy : 0.9666666666666667\n"
     ]
    }
   ],
   "source": [
    "DTC = DecisionTreeClassifier()\n",
    "DTC.fit(X_train, y_train)\n",
    "y_pred = DTC.predict(X_test)\n",
    "print('Accuracy :', accuracy_score(y_pred, y_test))"
   ]
  },
  {
   "cell_type": "markdown",
   "id": "40558672",
   "metadata": {
    "papermill": {
     "duration": 0.028605,
     "end_time": "2022-02-22T12:38:44.048479",
     "exception": false,
     "start_time": "2022-02-22T12:38:44.019874",
     "status": "completed"
    },
    "tags": []
   },
   "source": [
    "# Random Forest"
   ]
  },
  {
   "cell_type": "code",
   "execution_count": 11,
   "id": "8fb8afae",
   "metadata": {
    "execution": {
     "iopub.execute_input": "2022-02-22T12:38:44.105362Z",
     "iopub.status.busy": "2022-02-22T12:38:44.104421Z",
     "iopub.status.idle": "2022-02-22T12:38:44.221983Z",
     "shell.execute_reply": "2022-02-22T12:38:44.221262Z",
     "shell.execute_reply.started": "2022-02-22T12:06:11.279505Z"
    },
    "papermill": {
     "duration": 0.14776,
     "end_time": "2022-02-22T12:38:44.222174",
     "exception": false,
     "start_time": "2022-02-22T12:38:44.074414",
     "status": "completed"
    },
    "tags": []
   },
   "outputs": [
    {
     "name": "stdout",
     "output_type": "stream",
     "text": [
      "Accuracy : 0.9666666666666667\n"
     ]
    }
   ],
   "source": [
    "RF = RandomForestClassifier(n_estimators=50)\n",
    "RF.fit(X_train, y_train)\n",
    "y_pred = RF.predict(X_test)\n",
    "print('Accuracy :', accuracy_score(y_pred, y_test))"
   ]
  },
  {
   "cell_type": "markdown",
   "id": "566d1ea3",
   "metadata": {
    "papermill": {
     "duration": 0.025337,
     "end_time": "2022-02-22T12:38:44.273721",
     "exception": false,
     "start_time": "2022-02-22T12:38:44.248384",
     "status": "completed"
    },
    "tags": []
   },
   "source": [
    "# SVM"
   ]
  },
  {
   "cell_type": "code",
   "execution_count": 12,
   "id": "961e6788",
   "metadata": {
    "execution": {
     "iopub.execute_input": "2022-02-22T12:38:44.331343Z",
     "iopub.status.busy": "2022-02-22T12:38:44.330395Z",
     "iopub.status.idle": "2022-02-22T12:38:44.341749Z",
     "shell.execute_reply": "2022-02-22T12:38:44.341210Z",
     "shell.execute_reply.started": "2022-02-22T12:06:11.390550Z"
    },
    "papermill": {
     "duration": 0.04195,
     "end_time": "2022-02-22T12:38:44.341903",
     "exception": false,
     "start_time": "2022-02-22T12:38:44.299953",
     "status": "completed"
    },
    "tags": []
   },
   "outputs": [
    {
     "name": "stdout",
     "output_type": "stream",
     "text": [
      "Accuracy : 0.9666666666666667\n"
     ]
    }
   ],
   "source": [
    "SVM = SVC()\n",
    "SVM.fit(X_train, y_train)\n",
    "y_pred = SVM.predict(X_test)\n",
    "print('Accuracy :', accuracy_score(y_pred, y_test))"
   ]
  },
  {
   "cell_type": "code",
   "execution_count": 13,
   "id": "693fc87f",
   "metadata": {
    "execution": {
     "iopub.execute_input": "2022-02-22T12:38:44.407787Z",
     "iopub.status.busy": "2022-02-22T12:38:44.406101Z",
     "iopub.status.idle": "2022-02-22T12:38:44.526702Z",
     "shell.execute_reply": "2022-02-22T12:38:44.525967Z",
     "shell.execute_reply.started": "2022-02-22T12:06:11.402969Z"
    },
    "papermill": {
     "duration": 0.158527,
     "end_time": "2022-02-22T12:38:44.526856",
     "exception": false,
     "start_time": "2022-02-22T12:38:44.368329",
     "status": "completed"
    },
    "tags": []
   },
   "outputs": [
    {
     "name": "stdout",
     "output_type": "stream",
     "text": [
      "[0.9666666666666667, 0.9333333333333333, 0.9666666666666667]\n"
     ]
    }
   ],
   "source": [
    "models = [DTC, RF, SVM]\n",
    "accuracy = []\n",
    "for model in models:\n",
    "    model.fit(X_train, y_train)\n",
    "    y_pred = model.predict(X_test)\n",
    "    model_accuracy = accuracy_score(y_pred, y_test)\n",
    "    accuracy.append(model_accuracy)\n",
    "\n",
    "print(accuracy)"
   ]
  },
  {
   "cell_type": "code",
   "execution_count": 14,
   "id": "fa897c6c",
   "metadata": {
    "execution": {
     "iopub.execute_input": "2022-02-22T12:38:44.584995Z",
     "iopub.status.busy": "2022-02-22T12:38:44.583885Z",
     "iopub.status.idle": "2022-02-22T12:38:44.600448Z",
     "shell.execute_reply": "2022-02-22T12:38:44.599842Z",
     "shell.execute_reply.started": "2022-02-22T12:19:01.504961Z"
    },
    "papermill": {
     "duration": 0.045697,
     "end_time": "2022-02-22T12:38:44.600604",
     "exception": false,
     "start_time": "2022-02-22T12:38:44.554907",
     "status": "completed"
    },
    "tags": []
   },
   "outputs": [
    {
     "data": {
      "text/html": [
       "<div>\n",
       "<style scoped>\n",
       "    .dataframe tbody tr th:only-of-type {\n",
       "        vertical-align: middle;\n",
       "    }\n",
       "\n",
       "    .dataframe tbody tr th {\n",
       "        vertical-align: top;\n",
       "    }\n",
       "\n",
       "    .dataframe thead th {\n",
       "        text-align: right;\n",
       "    }\n",
       "</style>\n",
       "<table border=\"1\" class=\"dataframe\">\n",
       "  <thead>\n",
       "    <tr style=\"text-align: right;\">\n",
       "      <th></th>\n",
       "      <th>Name</th>\n",
       "      <th>Accuracy Score</th>\n",
       "    </tr>\n",
       "  </thead>\n",
       "  <tbody>\n",
       "    <tr>\n",
       "      <th>0</th>\n",
       "      <td>DTC</td>\n",
       "      <td>0.966667</td>\n",
       "    </tr>\n",
       "    <tr>\n",
       "      <th>1</th>\n",
       "      <td>RF</td>\n",
       "      <td>0.933333</td>\n",
       "    </tr>\n",
       "    <tr>\n",
       "      <th>2</th>\n",
       "      <td>SVM</td>\n",
       "      <td>0.966667</td>\n",
       "    </tr>\n",
       "  </tbody>\n",
       "</table>\n",
       "</div>"
      ],
      "text/plain": [
       "  Name  Accuracy Score\n",
       "0  DTC        0.966667\n",
       "1   RF        0.933333\n",
       "2  SVM        0.966667"
      ]
     },
     "execution_count": 14,
     "metadata": {},
     "output_type": "execute_result"
    }
   ],
   "source": [
    "Names = pd.DataFrame({'Name':['DTC', 'RF', 'SVM']})\n",
    "\n",
    "acc = pd.DataFrame(accuracy)\n",
    "acc.rename(columns={0:'Accuracy Score'}, inplace=True)\n",
    "DF_Accuracy = pd.concat([Names, acc], axis=1)\n",
    "DF_Accuracy"
   ]
  }
 ],
 "metadata": {
  "kernelspec": {
   "display_name": "Python 3",
   "language": "python",
   "name": "python3"
  },
  "language_info": {
   "codemirror_mode": {
    "name": "ipython",
    "version": 3
   },
   "file_extension": ".py",
   "mimetype": "text/x-python",
   "name": "python",
   "nbconvert_exporter": "python",
   "pygments_lexer": "ipython3",
   "version": "3.7.12"
  },
  "papermill": {
   "default_parameters": {},
   "duration": 17.471193,
   "end_time": "2022-02-22T12:38:45.644876",
   "environment_variables": {},
   "exception": null,
   "input_path": "__notebook__.ipynb",
   "output_path": "__notebook__.ipynb",
   "parameters": {},
   "start_time": "2022-02-22T12:38:28.173683",
   "version": "2.3.3"
  }
 },
 "nbformat": 4,
 "nbformat_minor": 5
}
